{
  "nbformat": 4,
  "nbformat_minor": 0,
  "metadata": {
    "colab": {
      "provenance": []
    },
    "kernelspec": {
      "name": "python3",
      "display_name": "Python 3"
    },
    "language_info": {
      "name": "python"
    }
  },
  "cells": [
    {
      "cell_type": "markdown",
      "source": [
        "## **Coding Problem by ChatGPT:**\n",
        "Write a Python function named convert_to_int that takes a string as input. The string will represent a number (it might be an integer or a float). The function should convert the string to a float first and then to an integer (truncating the decimal part). If the conversion is not possible (for example, if the string is not a valid number), the function should return -1.\n",
        "Example:\n",
        "\n",
        "Input: \"25.8\" → Output: 25\n",
        "Input: \"hello\" → Output: -1"
      ],
      "metadata": {
        "id": "6IYe2I-48KZ0"
      }
    },
    {
      "cell_type": "code",
      "execution_count": null,
      "metadata": {
        "colab": {
          "base_uri": "https://localhost:8080/"
        },
        "id": "5N8UcT938HSH",
        "outputId": "f2443f33-5178-47cd-a244-da6847bab640"
      },
      "outputs": [
        {
          "output_type": "execute_result",
          "data": {
            "text/plain": [
              "45"
            ]
          },
          "metadata": {},
          "execution_count": 24
        }
      ],
      "source": [
        "def convert_to_int(input: str) -> int:\n",
        "  try:\n",
        "    float_value = float(input)\n",
        "    integer: int = int(float_value)\n",
        "    return integer\n",
        "  except ValueError:\n",
        "    return -1\n",
        "\n",
        "convert_to_int(\"45.3\")\n"
      ]
    },
    {
      "cell_type": "markdown",
      "source": [
        "# **Python challenge Day:2**\n",
        "\n",
        "🚀 Challenge: Aisa Python program likhna hai jo user se ek sentence le aur usme jitne words hain, count kare! 🔢💡  \n",
        "\n",
        "🔥 **Example**:  \n",
        "📌 Input: \"Python is amazing!\"  \n",
        "📌 Output: Total words: 3  \n",
        "\n",
        "💡 **Hint**:\n",
        "- **split()** function ka use karke sentence ko words me tod sakte ho.  \n",
        "- **len()** function se words ki total count nikal sakte ho.  \n"
      ],
      "metadata": {
        "id": "IpCr-sc4u07r"
      }
    },
    {
      "cell_type": "code",
      "source": [
        "user_input = str(input(\"Enter your sentence: \"))\n",
        "list_of_words = user_input.split()\n",
        "list_of_words_len = len(list_of_words)\n",
        "print(f\"input {user_input.upper()}: \\n Number of words found: {list_of_words_len}\\n\")\n",
        "\n",
        "# Bonus code challenge\n",
        "list_of_words.reverse()\n",
        "reversed_words = \" \".join(list_of_words)\n",
        "print(f\"reversed: \\n {reversed_words}\")"
      ],
      "metadata": {
        "colab": {
          "base_uri": "https://localhost:8080/"
        },
        "id": "9P_2IHhFvKJ6",
        "outputId": "ea33ec79-f3df-4cfb-9ff0-40d05584c0bf"
      },
      "execution_count": null,
      "outputs": [
        {
          "output_type": "stream",
          "name": "stdout",
          "text": [
            "Enter your sentence: hi bro\n",
            "input HI BRO: \n",
            " Number of words found: 2\n",
            "\n",
            "reversed: \n",
            " bro hi\n"
          ]
        }
      ]
    },
    {
      "cell_type": "markdown",
      "source": [
        "# **📢 Day 3 – Daily Python Challenge 🐍**\n",
        "🚀 **Challenge**: Aisa Python program likho jo user se ek number le aur check kare ke wo prime number hai ya nahi! 🔢💡\n",
        "\n",
        "🔥 **Example**:\n",
        "\n",
        "📌 Input: 7\n",
        "\n",
        "📌 Output: Yes, it's a prime number!\n",
        "\n",
        "📌 Input: 10\n",
        "\n",
        "📌 Output: No, it's not a prime number!\n",
        "\n"
      ],
      "metadata": {
        "id": "20OJa3TS0pwB"
      }
    },
    {
      "cell_type": "code",
      "source": [
        "num = int(input(\"Enter your number: \"))\n",
        "if num > 0:\n",
        "  for i in range(2, int(num ** 0.5) + 1):\n",
        "    if num % i == 0:\n",
        "      print(\"No! its a prime number\")\n",
        "      break\n",
        "    else:\n",
        "      print(\"Yes! its not a prime number\")\n",
        "else:\n",
        "  print(\"No! its not a prime number\")\n",
        "\n",
        "\n",
        "print(5 % 2)"
      ],
      "metadata": {
        "colab": {
          "base_uri": "https://localhost:8080/"
        },
        "id": "eq7HP-gP1B96",
        "outputId": "236d28ac-de73-46a8-d146-ff44f11d0f99"
      },
      "execution_count": null,
      "outputs": [
        {
          "output_type": "stream",
          "name": "stdout",
          "text": [
            "Koi ek number enter karein: 5\n",
            "5 ek prime number hai! ✅\n"
          ]
        }
      ]
    },
    {
      "cell_type": "markdown",
      "source": [
        "# **📢 Day 4 – Daily Python Challenge 🐍**\n",
        "\n",
        "🚀 Challenge:Write a Python program that converts numbers into words! 🔢➡🔡\n",
        "\n",
        "🔥Example:\n",
        "\n",
        "📌 Input: 123\n",
        "\n",
        "📌 Output: \"One Hundred Twenty-Three\"\n",
        "\n",
        "\n",
        "📌 Input: 5067\n",
        "\n",
        "📌 Output: \"Five Thousand Sixty-Seven\"\n",
        "\n",
        "\n",
        "\n"
      ],
      "metadata": {
        "id": "JQS13Id9mBhh"
      }
    },
    {
      "cell_type": "code",
      "source": [
        "from num2words import num2words\n",
        "\n",
        "user_input = int(input(\"Enter your number\"))\n",
        "\n",
        "try:\n",
        "  print(num2words(user_input))\n",
        "except ValueError:\n",
        "  print(\"Please Enter a Valid number\")"
      ],
      "metadata": {
        "colab": {
          "base_uri": "https://localhost:8080/"
        },
        "id": "qOLjgi3GmLVn",
        "outputId": "dc693e6f-6ed2-42f9-cf69-99abca79781a"
      },
      "execution_count": null,
      "outputs": [
        {
          "output_type": "stream",
          "name": "stdout",
          "text": [
            "Enter your number3\n",
            "three\n"
          ]
        }
      ]
    },
    {
      "cell_type": "markdown",
      "source": [
        "# **📢 Day 5 – Daily Python Challenge 🐍**\n",
        "\n",
        "🚀 Challenge:\n",
        "\n",
        "Aisa Python program likhna hai jo user se ek number lega aur uska sum calculate karega 1 se lekar us number tak. 🔢💡\n",
        "\n",
        "🔥 Example:\n",
        "\n",
        "📌 Input: 5\n",
        "\n",
        "📌 Output: Sum: 15 (kyunki 1 + 2 + 3 + 4 + 5 = 15)\n",
        "\n"
      ],
      "metadata": {
        "id": "elyF7552p9IA"
      }
    },
    {
      "cell_type": "code",
      "source": [
        "user_input = int(input(\"Please enter your number: \"))\n",
        "total_sum = 0\n",
        "\n",
        "for i in range(1, user_input  + 1):\n",
        "    total_sum +=i\n",
        "    print(total_sum)"
      ],
      "metadata": {
        "colab": {
          "base_uri": "https://localhost:8080/"
        },
        "id": "IoliQ9_0qC4Y",
        "outputId": "ffe3b2d6-3b04-432d-c5de-fdffa2180134"
      },
      "execution_count": null,
      "outputs": [
        {
          "output_type": "stream",
          "name": "stdout",
          "text": [
            "Please enter your number: 5\n",
            "1\n",
            "3\n",
            "6\n",
            "10\n",
            "15\n"
          ]
        }
      ]
    },
    {
      "cell_type": "markdown",
      "source": [
        "# **📢 Day 6 – Daily Python Challenge 🐍**\n",
        "🚀 **Challenge:**\n",
        "\n",
        "Aisa Python program likhna hai jo user se ek integer number lega aur uska binary (0s aur 1s) me conversion karega, phir check karega ke ye palindrome hai ya nahi! 🔄✨\n",
        "\n",
        "\n",
        "🔥 **Example:**\n",
        "\n",
        "📌 Input: 9\n",
        "\n",
        "📌 Binary: 1001\n",
        "\n",
        "📌 Output: Palindrome ✅\n",
        "\n",
        "\n",
        "📌 Input: 13\n",
        "\n",
        "📌 Binary: 1101\n",
        "\n",
        "📌 Output: Not a Palindrome ❌\n"
      ],
      "metadata": {
        "id": "tOojYUuXs8gI"
      }
    },
    {
      "cell_type": "code",
      "source": [
        "# Taking input from users which is an integer\n",
        "num = int(input(\"Enter your number: \"))\n",
        "\n",
        "# convert integer to bin and skip first two characters\n",
        "bin_number = bin(num)[2:]\n",
        "\n",
        "# reverse bin number user using slicing technique [::-1]\n",
        "reversed_num = (bin_number)[ 0 : 0 : -1 ]\n",
        "\n",
        "# Checking if bin number is equal to reversed bin number\n",
        "if bin_number == reversed_num:\n",
        "  print(\"Palindrome ✅\")\n",
        "else:\n",
        "  print(\"Not a Palindrome ❌\")"
      ],
      "metadata": {
        "colab": {
          "base_uri": "https://localhost:8080/"
        },
        "id": "osV0BtnItKdo",
        "outputId": "ca79e15f-687e-404f-cf08-e89b784abbcd"
      },
      "execution_count": null,
      "outputs": [
        {
          "output_type": "stream",
          "name": "stdout",
          "text": [
            "Enter your number: 5\n",
            "Palindrome ✅\n"
          ]
        }
      ]
    },
    {
      "cell_type": "markdown",
      "source": [
        "## Generate Multiply table of numbers\n"
      ],
      "metadata": {
        "id": "u7iQocMuxbfw"
      }
    },
    {
      "cell_type": "code",
      "source": [
        "num = int(input(\"Enter your number: \"))\n",
        "for i in range(1, 11):\n",
        "  print(f\"{num} x {i} = {num * i}\")"
      ],
      "metadata": {
        "colab": {
          "base_uri": "https://localhost:8080/"
        },
        "id": "na2xU18yxpCS",
        "outputId": "50b0e357-a432-4d41-a84e-a9fa4290a17d"
      },
      "execution_count": null,
      "outputs": [
        {
          "output_type": "stream",
          "name": "stdout",
          "text": [
            "Enter your number: 3\n",
            "3 x 1 = 3\n",
            "3 x 2 = 6\n",
            "3 x 3 = 9\n",
            "3 x 4 = 12\n",
            "3 x 5 = 15\n",
            "3 x 6 = 18\n",
            "3 x 7 = 21\n",
            "3 x 8 = 24\n",
            "3 x 9 = 27\n",
            "3 x 10 = 30\n",
            "<class 'bytes'>\n"
          ]
        }
      ]
  
  ]
}
